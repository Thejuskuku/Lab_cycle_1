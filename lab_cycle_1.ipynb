{
 "cells": [
  {
   "cell_type": "code",
   "execution_count": 37,
   "id": "1cae3de1",
   "metadata": {},
   "outputs": [
    {
     "name": "stdout",
     "output_type": "stream",
     "text": [
      "Enter a number:1234\n",
      "10\n",
      "4321\n",
      "-5\n"
     ]
    }
   ],
   "source": [
    "def reverse(num):\n",
    "    num2=0\n",
    "    for i in range(4):\n",
    "        num1=num%10\n",
    "        num2=int(num2*10+num1)\n",
    "        num=num//10\n",
    "    print(num2)\n",
    "    \n",
    "def sum1(num):\n",
    "    num2=0\n",
    "    for i in range(4):\n",
    "        num1=num%10\n",
    "        num2=int(num2+num1)\n",
    "        num=num//10\n",
    "    print(num2)\n",
    "\n",
    "def oddeven(s):\n",
    "    abc=[]\n",
    "    for i in range(4):\n",
    "        num1=s%10\n",
    "        abc.append(num1)\n",
    "        s=s//10\n",
    "    diff=(abc[1]*abc[3])-(abc[0]*abc[2])\n",
    "    print(diff)\n",
    "    \n",
    "    \n",
    "a=int(input(\"Enter a number:\")) \n",
    "sum1(a)\n",
    "reverse(a)\n",
    "oddeven(a)"
   ]
  },
  {
   "cell_type": "code",
   "execution_count": 52,
   "id": "6eca27eb",
   "metadata": {},
   "outputs": [
    {
     "name": "stdout",
     "output_type": "stream",
     "text": [
      "Enter side A  : 3\n",
      "Enter side B  : 4\n",
      "Enter side C  : 5\n",
      "Enter side A  : 5\n",
      "Enter side B  : 12\n",
      "Enter side C  : 13\n",
      "6.0\n",
      "30.0\n",
      "Percentage of triangle 1 is : 17 %\n",
      "Percentage of triangle 2 is : 83 %\n"
     ]
    }
   ],
   "source": [
    "def read():\n",
    "    a=int(input(\"Enter side A  : \"))\n",
    "    b=int(input(\"Enter side B  : \"))\n",
    "    c=int(input(\"Enter side C  : \"))\n",
    "    return a,b,c\n",
    "\n",
    "def area(g,h,i):\n",
    "    peri=0\n",
    "    peri=g+h+i\n",
    "    s=peri/2\n",
    "    area=(s*(s-g)*(s-h)*(s-i))**(1/2)\n",
    "    print(area)\n",
    "    return area\n",
    "a1,b1,c1=read()\n",
    "d1,e1,f1=read()\n",
    "ar1=area(a1,b1,c1)\n",
    "ar2=area(d1,e1,f1)\n",
    "total=ar1+ar2\n",
    "per1=round((ar1*100)/total)\n",
    "per2=round((ar2*100)/total)\n",
    "print(\"Percentage of triangle 1 is :\",per1,\"%\")\n",
    "print(\"Percentage of triangle 2 is :\",per2,\"%\")"
   ]
  },
  {
   "cell_type": "code",
   "execution_count": 3,
   "id": "9bc5511f",
   "metadata": {},
   "outputs": [
    {
     "name": "stdout",
     "output_type": "stream",
     "text": [
      "Enter the employee name : AAA\n",
      "Enter employee code : 101\n",
      "Enter your basic pay : 10000\n",
      "---PAYSLIP---\n",
      "NAME :  AAA\n",
      "CODE :  101\n",
      "BASIC PAY :  10000\n",
      "GROSS SALARY :  14610.0\n",
      "DEDUCTION :  860.0\n",
      "NET SALARY :  13750.0\n"
     ]
    }
   ],
   "source": [
    "emp_name=input(\"Enter the employee name : \")\n",
    "emp_code=int(input(\"Enter employee code : \"))\n",
    "emp_basic=int(input(\"Enter your basic pay : \"))\n",
    "def gross(BP):\n",
    "    global GS\n",
    "    if (BP<10000):\n",
    "        GS=BP+BP*(5/100)+BP*(2.5/100)+500+20+BP*(8/100)\n",
    "    elif(BP<30000 and BP>=10000):\n",
    "        GS=BP+BP*(7.5/100)+BP*(5/100)+2500+60+BP*(8/100)\n",
    "    elif(BP<50000 and BP>=30000):\n",
    "        GS=BP+BP*(11/100)+BP*(7.5/100)+5000+60+BP*(11/100)+BP(11/100)\n",
    "    else:\n",
    "        GS=BP+BP*(25/100)+BP*(11/100)+7000+80+BP*(12/100)+BP*(20/100)\n",
    "    print(\"GROSS SALARY : \",GS)\n",
    "def deduction(BP):\n",
    "    global D\n",
    "    if (BP<10000):\n",
    "        D=20+BP*(8/100)\n",
    "    elif(BP<30000 and BP>=10000):\n",
    "        D=60+BP*(8/100)\n",
    "    elif(BP<50000 and BP>=30000):\n",
    "        D=60+BP*(11/100)+BP*(11/100)\n",
    "    else:\n",
    "        D=80+BP*(12/100)+BP*(20/100)\n",
    "    print(\"DEDUCTION : \",D)\n",
    "def net(BP):\n",
    "    net_sal=GS-D\n",
    "    print(\"NET SALARY : \",net_sal)\n",
    "print(\"---PAYSLIP---\")\n",
    "print(\"NAME : \",emp_name)\n",
    "print(\"CODE : \",emp_code)\n",
    "print(\"BASIC PAY : \",emp_basic)\n",
    "gross(emp_basic)\n",
    "deduction(emp_basic)\n",
    "net(emp_basic)\n",
    "\n",
    "\n",
    "        "
   ]
  },
  {
   "cell_type": "code",
   "execution_count": 1,
   "id": "f349d70c",
   "metadata": {},
   "outputs": [
    {
     "name": "stdout",
     "output_type": "stream",
     "text": [
      "Enter number : 19\n",
      "Happy Number\n",
      "Enter start number : 20\n",
      "Enter end number : 30\n",
      "20 Not Happy Number\n",
      "21 Not Happy Number\n",
      "22 Not Happy Number\n",
      "23 Happy Number\n",
      "24 Not Happy Number\n",
      "25 Not Happy Number\n",
      "26 Not Happy Number\n",
      "27 Not Happy Number\n",
      "28 Happy Number\n",
      "29 Not Happy Number\n",
      "30 Not Happy Number\n",
      "Enter number : 20\n",
      "1 7 10 13 19 "
     ]
    }
   ],
   "source": [
    "def loop(num,ans=0):\n",
    "    i=0\n",
    "    for i in range(101):\n",
    "        ans=0\n",
    "        while(num>0):\n",
    "            a=num%10\n",
    "            num=num//10\n",
    "            ans=ans+a**2\n",
    "        num=ans\n",
    "    return ans\n",
    "def pgm1(ans):\n",
    "    if(ans==1):\n",
    "        print(\"Happy Number\")\n",
    "    else:\n",
    "        print(\"Not Happy Number\")\n",
    "def pgm2(n1,n2):\n",
    "    for i in range(n1,n2+1):\n",
    "        print(i,end=\" \")\n",
    "        ans2=loop(i)\n",
    "        pgm1(ans2)\n",
    "def pgm3(n3):\n",
    "    for j in range(n3+1):\n",
    "        ans3=loop(j)\n",
    "        if(ans3==1):\n",
    "            print(j,end=\" \")\n",
    "num=eval(input(\"Enter number : \"))\n",
    "ans1=loop(num)\n",
    "pgm1(ans1)\n",
    "n1=eval(input(\"Enter start number : \"))\n",
    "n2=eval(input(\"Enter end number : \"))\n",
    "pgm2(n1,n2)\n",
    "n3=eval(input(\"Enter number : \"))\n",
    "pgm3(n3)"
   ]
  },
  {
   "cell_type": "code",
   "execution_count": 22,
   "id": "b45b6417",
   "metadata": {},
   "outputs": [
    {
     "name": "stdout",
     "output_type": "stream",
     "text": [
      "Enter string : abcde\n",
      "Substrings:\n",
      "['a', 'ab', 'abc', 'abcd', 'abcde', 'b', 'bc', 'bcd', 'bcde', 'c', 'cd', 'cde', 'd', 'de', 'e']\n",
      "Enter length : 2\n",
      "Substrings of length  2  : \n",
      "['ab', 'bc', 'cd', 'de']\n",
      "Enter number of distinct number : 2\n",
      "Substrings of length  2  with  2  distinct characters : \n",
      "['ab', 'bc', 'cd', 'de']\n",
      "Palindrome substrings : \n",
      "['a', 'b', 'c', 'd', 'e']\n"
     ]
    }
   ],
   "source": [
    "def string1(s):\n",
    "    n = len(s)\n",
    "    substrings = [s[i:j] for i in range(n) for j in range(i + 1, n + 1)]\n",
    "    print(\"Substrings:\")\n",
    "    print(substrings)\n",
    "\n",
    "def string2(s, k):\n",
    "    n = len(s)\n",
    "    substrings_k = [s[i:i+k] for i in range(n - k + 1)]\n",
    "    print(\"Substrings of length \",k,\" : \")\n",
    "    print(substrings_k)\n",
    "\n",
    "def string3(s, k, n):\n",
    "    substrings_k_n = [s[i:i+k] for i in range(len(s) - k + 1) if len(set(s[i:i+k])) == n]\n",
    "    print(\"Substrings of length \",k,\" with \",n,\" distinct characters : \")\n",
    "    print(substrings_k_n)\n",
    "\n",
    "def string4(s):\n",
    "    def is_palindrome(sub):\n",
    "        return sub == sub[::-1]\n",
    "\n",
    "    palindromes = [s[i:j] for i in range(len(s)) for j in range(i + 1, len(s) + 1) if is_palindrome(s[i:j])]\n",
    "    print(\"Palindrome substrings : \")\n",
    "    print(palindromes)\n",
    "s=input(\"Enter string : \")\n",
    "string1(s)\n",
    "k=eval(input(\"Enter length : \"))\n",
    "string2(s,k)\n",
    "n=eval(input(\"Enter number of distinct number : \"))\n",
    "string3(s,k,n)\n",
    "string4(s)"
   ]
  },
  {
   "cell_type": "code",
   "execution_count": null,
   "id": "664b31a9",
   "metadata": {},
   "outputs": [],
   "source": []
  }
 ],
 "metadata": {
  "kernelspec": {
   "display_name": "Python 3 (ipykernel)",
   "language": "python",
   "name": "python3"
  },
  "language_info": {
   "codemirror_mode": {
    "name": "ipython",
    "version": 3
   },
   "file_extension": ".py",
   "mimetype": "text/x-python",
   "name": "python",
   "nbconvert_exporter": "python",
   "pygments_lexer": "ipython3",
   "version": "3.11.5"
  }
 },
 "nbformat": 4,
 "nbformat_minor": 5
}
